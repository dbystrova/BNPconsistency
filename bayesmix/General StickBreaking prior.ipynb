{
 "cells": [
  {
   "cell_type": "code",
   "execution_count": 1,
   "id": "28b41c0b",
   "metadata": {},
   "outputs": [],
   "source": [
    "import matplotlib.pyplot as plt\n",
    "import numpy as np\n",
    "from collections import Counter\n",
    "\n",
    "\n",
    "from bayesmixpy import build_bayesmix, run_mcmc"
   ]
  },
  {
   "cell_type": "code",
   "execution_count": 2,
   "id": "cbc4a79c",
   "metadata": {
    "collapsed": true
   },
   "outputs": [
    {
     "name": "stdout",
     "output_type": "stream",
     "text": [
      "Building the Bayesmix executable\n",
      "CMAKE_MODULE_PATH /Users/dariabystrova/bayesmix\n",
      "-- downloading/updating math\n",
      "-- math directory found, pulling...\n",
      "From https://github.com/bayesmix-dev/math\n",
      "* branch                  master     -> FETCH_HEAD\n",
      "--\n",
      "Already on 'develop'\n",
      "-- Your branch is ahead of 'origin/develop' by 22 commits.\n",
      "(use \"git push\" to publish your local commits)\n",
      "\n",
      "-- Using math TBB\n",
      "-- Building Intel TBB: /usr/bin/make -j12 stdver=c++17 compiler=clang tbb_build_dir=/Users/dariabystrova/bayesmix/lib/math/lib/tbb tbb_build_prefix=tbb\n",
      "FINDPROTOBUF:CMAKE Protobuf_FOUND 0\n",
      "FINDPROTOBUF:CMAKE PROTOBUF_FOUND 1\n",
      "-- protoc proto(cc): /Users/dariabystrova/bayesmix/src/proto/algorithm_id.proto\n",
      "-- protoc hdr: /Users/dariabystrova/bayesmix/build/algorithm_id.pb.h\n",
      "-- protoc src: /Users/dariabystrova/bayesmix/build/algorithm_id.pb.cc\n",
      "-- protoc proto(cc): /Users/dariabystrova/bayesmix/src/proto/algorithm_params.proto\n",
      "-- protoc hdr: /Users/dariabystrova/bayesmix/build/algorithm_params.pb.h\n",
      "-- protoc src: /Users/dariabystrova/bayesmix/build/algorithm_params.pb.cc\n",
      "-- protoc proto(cc): /Users/dariabystrova/bayesmix/src/proto/algorithm_state.proto\n",
      "-- protoc hdr: /Users/dariabystrova/bayesmix/build/algorithm_state.pb.h\n",
      "-- protoc src: /Users/dariabystrova/bayesmix/build/algorithm_state.pb.cc\n",
      "-- protoc proto(cc): /Users/dariabystrova/bayesmix/src/proto/distribution.proto\n",
      "-- protoc hdr: /Users/dariabystrova/bayesmix/build/distribution.pb.h\n",
      "-- protoc src: /Users/dariabystrova/bayesmix/build/distribution.pb.cc\n",
      "-- protoc proto(cc): /Users/dariabystrova/bayesmix/src/proto/hierarchy_id.proto\n",
      "-- protoc hdr: /Users/dariabystrova/bayesmix/build/hierarchy_id.pb.h\n",
      "-- protoc src: /Users/dariabystrova/bayesmix/build/hierarchy_id.pb.cc\n",
      "-- protoc proto(cc): /Users/dariabystrova/bayesmix/src/proto/hierarchy_prior.proto\n",
      "-- protoc hdr: /Users/dariabystrova/bayesmix/build/hierarchy_prior.pb.h\n",
      "-- protoc src: /Users/dariabystrova/bayesmix/build/hierarchy_prior.pb.cc\n",
      "-- protoc proto(cc): /Users/dariabystrova/bayesmix/src/proto/ls_state.proto\n",
      "-- protoc hdr: /Users/dariabystrova/bayesmix/build/ls_state.pb.h\n",
      "-- protoc src: /Users/dariabystrova/bayesmix/build/ls_state.pb.cc\n",
      "-- protoc proto(cc): /Users/dariabystrova/bayesmix/src/proto/matrix.proto\n",
      "-- protoc hdr: /Users/dariabystrova/bayesmix/build/matrix.pb.h\n",
      "-- protoc src: /Users/dariabystrova/bayesmix/build/matrix.pb.cc\n",
      "-- protoc proto(cc): /Users/dariabystrova/bayesmix/src/proto/mixing_id.proto\n",
      "-- protoc hdr: /Users/dariabystrova/bayesmix/build/mixing_id.pb.h\n",
      "-- protoc src: /Users/dariabystrova/bayesmix/build/mixing_id.pb.cc\n",
      "-- protoc proto(cc): /Users/dariabystrova/bayesmix/src/proto/mixing_prior.proto\n",
      "-- protoc hdr: /Users/dariabystrova/bayesmix/build/mixing_prior.pb.h\n",
      "-- protoc src: /Users/dariabystrova/bayesmix/build/mixing_prior.pb.cc\n",
      "-- protoc proto(cc): /Users/dariabystrova/bayesmix/src/proto/mixing_state.proto\n",
      "-- protoc hdr: /Users/dariabystrova/bayesmix/build/mixing_state.pb.h\n",
      "-- protoc src: /Users/dariabystrova/bayesmix/build/mixing_state.pb.cc\n",
      "-- protoc proto(cc): /Users/dariabystrova/bayesmix/src/proto/semihdp.proto\n",
      "-- protoc hdr: /Users/dariabystrova/bayesmix/build/semihdp.pb.h\n",
      "-- protoc src: /Users/dariabystrova/bayesmix/build/semihdp.pb.cc\n",
      "-- Configuring done\n",
      "-- Generating done\n",
      "-- Build files have been written to: /Users/dariabystrova/bayesmix/build\n",
      "\n",
      "Consolidate compiler generated dependencies of target bayesmix\n",
      "[  1%] Building CXX object CMakeFiles/bayesmix.dir/src/algorithms/base_algorithm.cc.o\n",
      "[  3%] Building CXX object CMakeFiles/bayesmix.dir/src/algorithms/blocked_gibbs_algorithm.cc.o\n",
      "[  6%] Building CXX object CMakeFiles/bayesmix.dir/src/algorithms/marginal_algorithm.cc.o\n",
      "[  6%] Building CXX object CMakeFiles/bayesmix.dir/src/algorithms/neal2_algorithm.cc.o\n",
      "[  7%] Building CXX object CMakeFiles/bayesmix.dir/src/algorithms/neal3_algorithm.cc.o\n",
      "[  9%] Building CXX object CMakeFiles/bayesmix.dir/src/algorithms/neal8_algorithm.cc.o\n",
      "[ 10%] Building CXX object CMakeFiles/bayesmix.dir/src/algorithms/semihdp_sampler.cc.o\n",
      "[ 12%] Building CXX object CMakeFiles/bayesmix.dir/src/algorithms/split_and_merge_algorithm.cc.o\n",
      "[ 14%] Building CXX object CMakeFiles/bayesmix.dir/src/collectors/file_collector.cc.o\n",
      "[ 15%] Building CXX object CMakeFiles/bayesmix.dir/src/collectors/memory_collector.cc.o\n",
      "[ 17%] Building CXX object CMakeFiles/bayesmix.dir/src/hierarchies/likelihoods/uni_norm_likelihood.cc.o\n",
      "[ 18%] Building CXX object CMakeFiles/bayesmix.dir/src/hierarchies/likelihoods/multi_norm_likelihood.cc.o\n",
      "[ 20%] Building CXX object CMakeFiles/bayesmix.dir/src/hierarchies/likelihoods/uni_lin_reg_likelihood.cc.o\n",
      "[ 21%] Building CXX object CMakeFiles/bayesmix.dir/src/hierarchies/likelihoods/laplace_likelihood.cc.o\n",
      "[ 23%] Building CXX object CMakeFiles/bayesmix.dir/src/hierarchies/likelihoods/fa_likelihood.cc.o\n",
      "[ 25%] Building CXX object CMakeFiles/bayesmix.dir/src/hierarchies/priors/nig_prior_model.cc.o\n",
      "[ 26%] Building CXX object CMakeFiles/bayesmix.dir/src/hierarchies/priors/nxig_prior_model.cc.o\n",
      "[ 28%] Building CXX object CMakeFiles/bayesmix.dir/src/hierarchies/priors/nw_prior_model.cc.o\n",
      "[ 29%] Building CXX object CMakeFiles/bayesmix.dir/src/hierarchies/priors/mnig_prior_model.cc.o\n",
      "[ 31%] Building CXX object CMakeFiles/bayesmix.dir/src/hierarchies/priors/fa_prior_model.cc.o\n",
      "[ 32%] Building CXX object CMakeFiles/bayesmix.dir/src/hierarchies/updaters/nnig_updater.cc.o\n",
      "[ 34%] Building CXX object CMakeFiles/bayesmix.dir/src/hierarchies/updaters/nnxig_updater.cc.o\n",
      "[ 35%] Building CXX object CMakeFiles/bayesmix.dir/src/hierarchies/updaters/nnw_updater.cc.o\n",
      "[ 37%] Building CXX object CMakeFiles/bayesmix.dir/src/hierarchies/updaters/mnig_updater.cc.o\n",
      "[ 39%] Building CXX object CMakeFiles/bayesmix.dir/src/hierarchies/updaters/fa_updater.cc.o\n",
      "[ 40%] Building CXX object CMakeFiles/bayesmix.dir/src/mixings/dirichlet_mixing.cc.o\n",
      "[ 42%] Building CXX object CMakeFiles/bayesmix.dir/src/mixings/logit_sb_mixing.cc.o\n",
      "[ 43%] Building CXX object CMakeFiles/bayesmix.dir/src/mixings/mixture_finite_mixing.cc.o\n",
      "[ 45%] Building CXX object CMakeFiles/bayesmix.dir/src/mixings/pityor_mixing.cc.o\n",
      "[ 46%] Building CXX object CMakeFiles/bayesmix.dir/src/mixings/truncated_sb_mixing.cc.o\n",
      "[ 48%] Building CXX object CMakeFiles/bayesmix.dir/src/utils/cluster_utils.cc.o\n",
      "[ 50%] Building CXX object CMakeFiles/bayesmix.dir/src/utils/eigen_utils.cc.o\n",
      "[ 51%] Building CXX object CMakeFiles/bayesmix.dir/src/utils/eval_like.cc.o\n",
      "[ 53%] Building CXX object CMakeFiles/bayesmix.dir/src/utils/distributions.cc.o\n",
      "[ 54%] Building CXX object CMakeFiles/bayesmix.dir/src/utils/io_utils.cc.o\n",
      "[ 56%] Building CXX object CMakeFiles/bayesmix.dir/src/utils/proto_utils.cc.o\n",
      "[ 57%] Building CXX object CMakeFiles/bayesmix.dir/src/utils/testing_utils.cc.o\n",
      "[ 96%] Built target bayesmix\n",
      "Consolidate compiler generated dependencies of target run_mcmc\n",
      "[ 98%] Building CXX object CMakeFiles/run_mcmc.dir/executables/run_mcmc.cc.o\n",
      "[100%] Linking CXX executable run_mcmc\n",
      "[100%] Built target run_mcmc\n",
      "\n"
     ]
    },
    {
     "data": {
      "text/plain": [
       "True"
      ]
     },
     "execution_count": 2,
     "metadata": {},
     "output_type": "execute_result"
    }
   ],
   "source": [
    "build_bayesmix(4)"
   ]
  },
  {
   "cell_type": "code",
   "execution_count": 3,
   "id": "d0bd96e5",
   "metadata": {},
   "outputs": [],
   "source": [
    "from google.protobuf.internal.decoder import _DecodeVarint32"
   ]
  },
  {
   "cell_type": "code",
   "execution_count": 172,
   "id": "bcac2527",
   "metadata": {},
   "outputs": [],
   "source": [
    "def readManyFromFile(filename, msgType):\n",
    "    out = []\n",
    "    with open(filename, \"rb\") as fp:\n",
    "        buf = fp.read()\n",
    "\n",
    "    n = 0\n",
    "    while n < len(buf):\n",
    "        msg_len, new_pos = _DecodeVarint32(buf, n)\n",
    "        n = new_pos\n",
    "        msg_buf = buf[n:n+msg_len]\n",
    "        try:\n",
    "            msg = msgType()\n",
    "            msg.ParseFromString(msg_buf)\n",
    "            out.append(msg)\n",
    "            n += msg_len\n",
    "        except Exception as e:\n",
    "            break\n",
    "\n",
    "    return np.array(out)\n",
    "\n",
    "#chainfiles = [\"chains.recordio\",]\n",
    "#chains = readManyFromFile(chainfiles[0], DPState)[-1000:]\n",
    "#c_chain = np.vstack([x.c for x in chains if len(x.c)])\n"
   ]
  },
  {
   "cell_type": "code",
   "execution_count": 170,
   "id": "e7668460",
   "metadata": {},
   "outputs": [],
   "source": [
    "#Data\n",
    "data1 = np.loadtxt(\"../scripts_for_figures/sim_data/GM_3_20.csv\", delimiter=\",\",skiprows=1)\n",
    "data2 = np.loadtxt(\"../scripts_for_figures/sim_data/GM_3_200.csv\", delimiter=\",\",skiprows=1,usecols = (1,2))\n",
    "data3 = np.loadtxt(\"../scripts_for_figures/sim_data/GM_3_2000.csv\", delimiter=\",\",skiprows=1,usecols = (1,2))\n",
    "data4 = np.loadtxt(\"../scripts_for_figures/sim_data/GM_3_20000.csv\",delimiter=\",\",skiprows=1)"
   ]
  },
  {
   "cell_type": "code",
   "execution_count": 171,
   "id": "50e13ce7",
   "metadata": {},
   "outputs": [],
   "source": [
    "n_components = 10\n",
    "alpha = 0.1\n",
    "e0= 1/10"
   ]
  },
  {
   "cell_type": "markdown",
   "id": "d0e71aa6",
   "metadata": {},
   "source": [
    "$\\frac{\\alpha}{N}$"
   ]
  },
  {
   "cell_type": "code",
   "execution_count": 172,
   "id": "f28f4513",
   "metadata": {},
   "outputs": [],
   "source": [
    "beta_alpha1 = np.ones(n_components)*e0\n",
    "beta_alpha2 = np.ones(n_components)\n",
    "\n",
    "for x in range(10):\n",
    "    beta_alpha2[x] = e0*(n_components - (x+1))"
   ]
  },
  {
   "cell_type": "code",
   "execution_count": 173,
   "id": "4c94f4b3",
   "metadata": {},
   "outputs": [],
   "source": [
    "#beta_alpha2"
   ]
  },
  {
   "cell_type": "code",
   "execution_count": 174,
   "id": "2abbc7f1",
   "metadata": {},
   "outputs": [],
   "source": [
    "beta_params_template = \"\"\"\n",
    "beta_distributions {{\n",
    "    shape_a: {0}\n",
    "    shape_b: {1}\n",
    "}}\n",
    "\"\"\"\n",
    "\n",
    "beta_params_proto = [\n",
    "    beta_params_template.format(a1, a2) for a1, a2 in zip(beta_alpha1, beta_alpha2)\n",
    "]\n",
    "\n",
    "\n",
    "trunc_sb_params = \"\"\"\n",
    "num_components: {0}\n",
    "beta_priors {{\n",
    "    {1}\n",
    "}}\n",
    "\"\"\".format(n_components, \"\".join(beta_params_proto))"
   ]
  },
  {
   "cell_type": "code",
   "execution_count": 134,
   "id": "b191401e",
   "metadata": {},
   "outputs": [],
   "source": [
    "g0_params_fix = \"\"\"\n",
    "fixed_values {\n",
    "    mean: 0.0\n",
    "    var_scaling: 0.1\n",
    "    shape: 2.0\n",
    "    scale: 2.0\n",
    "}\n",
    "\"\"\"\n",
    "\n",
    "neal2_algo = \"\"\"\n",
    "algo_id: \"BlockedGibbs\"\n",
    "rng_seed: 20201124\n",
    "iterations: 2000\n",
    "burnin: 1000\n",
    "init_num_clusters: 3\n",
    "\"\"\""
   ]
  },
  {
   "cell_type": "code",
   "execution_count": 135,
   "id": "01f75ab3",
   "metadata": {},
   "outputs": [
    {
     "name": "stdout",
     "output_type": "stream",
     "text": [
      "Running run_mcmc.cc\n",
      "Creating MemoryCollector\n",
      "Initializing... Done\n",
      "Running BlockedGibbs algorithm with NNIG hierarchies, TruncSB mixing...\n",
      "[============================================================] 100% 0.82s                                                                                       Done\n",
      "Computing log-density...\n",
      "Successfully wrote density to /var/folders/2z/0sxx_8ts2pxcp028sy41wfgc0000gn/T/tmpptzqvp6v/eval_dens.csv\n",
      "Successfully wrote number of clusters to /var/folders/2z/0sxx_8ts2pxcp028sy41wfgc0000gn/T/tmpptzqvp6v/n_clus.csv\n",
      "Successfully wrote cluster allocations to /var/folders/2z/0sxx_8ts2pxcp028sy41wfgc0000gn/T/tmpptzqvp6v/clus.csv\n",
      "(Computing mean dissimilarity... Done)\n",
      "Computing Frobenius norm error...\n",
      "[===>                                                        ] 5% 0.017s                     "
     ]
    }
   ],
   "source": [
    "dens_grid = np.linspace(-10, 10, 1000)\n",
    "data = np.concatenate([\n",
    "    np.random.normal(loc=3, scale=1, size=100),\n",
    "    np.random.normal(loc=-3, scale=1, size=100),\n",
    "])\n",
    "eval_dens, clust, n_clust, p_clust = run_mcmc(\n",
    "    \"NNIG\", \"TruncSB\", data, g0_params_fix, trunc_sb_params, neal2_algo, dens_grid,\n",
    "    return_clusters=True, return_num_clusters=True,\n",
    "    return_best_clus=True)"
   ]
  },
  {
   "cell_type": "code",
   "execution_count": 139,
   "id": "883ad0a8",
   "metadata": {},
   "outputs": [
    {
     "data": {
      "text/plain": [
       "array([2., 4., 5., 7.])"
      ]
     },
     "execution_count": 139,
     "metadata": {},
     "output_type": "execute_result"
    }
   ],
   "source": [
    "np.unique(n_clust[1])"
   ]
  },
  {
   "cell_type": "code",
   "execution_count": null,
   "id": "78c7c84d",
   "metadata": {},
   "outputs": [],
   "source": [
    "clust"
   ]
  },
  {
   "cell_type": "code",
   "execution_count": 137,
   "id": "7a8391b7",
   "metadata": {},
   "outputs": [
    {
     "data": {
      "image/png": "[encoded data removed]",
      "text/plain": [
       "<Figure size 432x288 with 1 Axes>"
      ]
     },
     "metadata": {
      "needs_background": "light"
     },
     "output_type": "display_data"
    }
   ],
   "source": [
    "x, y = np.unique(clust, return_counts=True)\n",
    "plt.bar(x, y / y.sum())\n",
    "plt.xticks(x)\n",
    "plt.title(\"Posterior distribution of the number of clusters\")\n",
    "plt.show()"
   ]
  },
  {
   "cell_type": "markdown",
   "id": "38c5c46d",
   "metadata": {},
   "source": [
    "# Dirichlet multinomial mixture: multivariate case"
   ]
  },
  {
   "cell_type": "code",
   "execution_count": 141,
   "id": "59d762c3",
   "metadata": {},
   "outputs": [],
   "source": [
    "g0_params_fix = \"\"\"\n",
    "fixed_values {\n",
    "    mean {\n",
    "        size: 2\n",
    "        data: 3.484\n",
    "        data: 3.487\n",
    "    }\n",
    "    var_scaling: 0.01\n",
    "    deg_free: 5\n",
    "    scale {\n",
    "        rows: 2\n",
    "        cols: 2\n",
    "        data: 1.0\n",
    "        data: 0.0\n",
    "        data: 0.0\n",
    "        data: 1.0\n",
    "        rowmajor: false\n",
    "    }\n",
    "}\n",
    "\"\"\"\n",
    "\n",
    "neal2_algo = \"\"\"\n",
    "algo_id: \"BlockedGibbs\"\n",
    "rng_seed: 20201124\n",
    "iterations: 2000\n",
    "burnin: 1000\n",
    "init_num_clusters: 3\n",
    "\"\"\"\n"
   ]
  },
  {
   "cell_type": "code",
   "execution_count": 142,
   "id": "cb56b523",
   "metadata": {},
   "outputs": [],
   "source": [
    "xgrid = np.linspace(-2, 2, 50)\n",
    "xgrid, ygrid = np.meshgrid(xgrid, xgrid)\n",
    "dens_grid = np.hstack([xgrid.reshape(-1, 1), ygrid.reshape(-1, 1)])"
   ]
  },
  {
   "cell_type": "code",
   "execution_count": 147,
   "id": "5e2ab1de",
   "metadata": {},
   "outputs": [
    {
     "name": "stdout",
     "output_type": "stream",
     "text": [
      "Running run_mcmc.cc\n",
      "Creating MemoryCollector\n",
      "Initializing... Done\n",
      "Running BlockedGibbs algorithm with NNW hierarchies, TruncSB mixing...\n",
      "[============================================================] 100% 2.148s                                                                                                                                                                                                                                                                                                                                                                                                                                                                                        Done\n",
      "Computing log-density...\n",
      "Successfully wrote density to /var/folders/2z/0sxx_8ts2pxcp028sy41wfgc0000gn/T/tmpzuvv3opj/eval_dens.csv\n",
      "Successfully wrote number of clusters to /var/folders/2z/0sxx_8ts2pxcp028sy41wfgc0000gn/T/tmpzuvv3opj/n_clus.csv\n",
      "Successfully wrote cluster allocations to /var/folders/2z/0sxx_8ts2pxcp028sy41wfgc0000gn/T/tmpzuvv3opj/clus.csv\n",
      "(Computing mean dissimilarity... Done)\n",
      "Computing Frobenius norm error...\n",
      "[========>                                                   ] 13% 0.018s "
     ]
    }
   ],
   "source": [
    "eval_dens, clust, n_clust, p_clust = run_mcmc(\n",
    "    \"NNW\", \"TruncSB\", data2, g0_params_fix, trunc_sb_params, neal2_algo, dens_grid,\n",
    "    return_clusters=True, return_num_clusters=True,\n",
    "    return_best_clus=True)"
   ]
  },
  {
   "cell_type": "code",
   "execution_count": 148,
   "id": "4974c566",
   "metadata": {},
   "outputs": [
    {
     "data": {
      "text/plain": [
       "array([1., 6.])"
      ]
     },
     "execution_count": 148,
     "metadata": {},
     "output_type": "execute_result"
    }
   ],
   "source": [
    "np.unique(n_clust[1])"
   ]
  },
  {
   "cell_type": "code",
   "execution_count": 149,
   "id": "0d8b08f8",
   "metadata": {},
   "outputs": [
    {
     "data": {
      "text/plain": [
       "(1000, 200)"
      ]
     },
     "execution_count": 149,
     "metadata": {},
     "output_type": "execute_result"
    }
   ],
   "source": [
    "n_clust.shape"
   ]
  },
  {
   "cell_type": "code",
   "execution_count": 150,
   "id": "575ecfca",
   "metadata": {},
   "outputs": [
    {
     "data": {
      "image/png": "[encoded data removed]",
      "text/plain": [
       "<Figure size 432x288 with 1 Axes>"
      ]
     },
     "metadata": {
      "needs_background": "light"
     },
     "output_type": "display_data"
    }
   ],
   "source": [
    "x, y = np.unique(clust, return_counts=True)\n",
    "plt.bar(x, y / y.sum())\n",
    "plt.xticks(x)\n",
    "plt.title(\"Posterior distribution of the number of clusters\")\n",
    "plt.show()"
   ]
  },
  {
   "cell_type": "markdown",
   "id": "8121b794",
   "metadata": {},
   "source": [
    "# DP process mixture: multivariate case"
   ]
  },
  {
   "cell_type": "code",
   "execution_count": 156,
   "id": "be098a30",
   "metadata": {},
   "outputs": [],
   "source": [
    "data3\n",
    "mu0 = np.mean(data2, axis=0)\n",
    "mu0\n",
    "xgrid = np.linspace(-2, 2, 50)\n",
    "xgrid, ygrid = np.meshgrid(xgrid, xgrid)\n",
    "dens_grid = np.hstack([xgrid.reshape(-1, 1), ygrid.reshape(-1, 1)])"
   ]
  },
  {
   "cell_type": "code",
   "execution_count": 166,
   "id": "76c6aa8b",
   "metadata": {},
   "outputs": [
    {
     "data": {
      "text/plain": [
       "array([0.43783005, 0.27623514])"
      ]
     },
     "execution_count": 166,
     "metadata": {},
     "output_type": "execute_result"
    }
   ],
   "source": [
    "mu0"
   ]
  },
  {
   "cell_type": "code",
   "execution_count": 175,
   "id": "b572fe32",
   "metadata": {},
   "outputs": [],
   "source": [
    "dp_params = \"\"\"\n",
    "fixed_value {\n",
    "    totalmass: 1.\n",
    "}\n",
    "\"\"\"\n",
    "\n",
    "py_params = \"\"\"\n",
    "fixed_values {\n",
    "    strength: 1.0\n",
    "    discount: 0.2\n",
    "}\n",
    "\"\"\"\n",
    "\n",
    "\n",
    "g0_params = \"\"\"\n",
    "fixed_values {\n",
    "    mean {\n",
    "        size: 2\n",
    "        data: 0.437\n",
    "        data: 0.27\n",
    "    }\n",
    "    var_scaling: 0.5\n",
    "    deg_free: 5\n",
    "    scale {\n",
    "        rows: 2\n",
    "        cols: 2\n",
    "        data: 1.0\n",
    "        data: 0.0\n",
    "        data: 0.0\n",
    "        data: 1.0\n",
    "        rowmajor: false\n",
    "    }\n",
    "}\n",
    "\"\"\"\n",
    "\n",
    "neal2_algo = \"\"\"\n",
    "algo_id: \"Neal2\"\n",
    "rng_seed: 20201124\n",
    "iterations: 10000\n",
    "burnin: 3000\n",
    "init_num_clusters: 3\n",
    "\"\"\""
   ]
  },
  {
   "cell_type": "code",
   "execution_count": 176,
   "id": "9113bb1d",
   "metadata": {},
   "outputs": [
    {
     "name": "stdout",
     "output_type": "stream",
     "text": [
      "Running run_mcmc.cc\n",
      "Creating MemoryCollector\n",
      "Initializing... Done\n",
      "Running Neal2 algorithm with NNW hierarchies, DP mixing...\n",
      "[============================================================] 100% 122.88s                                                                                                                                        Done\n",
      "Computing log-density...\n",
      "Successfully wrote density to /var/folders/2z/0sxx_8ts2pxcp028sy41wfgc0000gn/T/tmpllo8918p/eval_dens.csv\n",
      "Successfully wrote number of clusters to /var/folders/2z/0sxx_8ts2pxcp028sy41wfgc0000gn/T/tmpllo8918p/n_clus.csv\n",
      "Successfully wrote cluster allocations to /var/folders/2z/0sxx_8ts2pxcp028sy41wfgc0000gn/T/tmpllo8918p/clus.csv\n",
      "(Computing mean dissimilarity... Done)\n",
      "Computing Frobenius norm error...\n",
      "[============================================================] 100% 169.204s                                                                    Done\n",
      "Successfully wrote best cluster allocations to /var/folders/2z/0sxx_8ts2pxcp028sy41wfgc0000gn/T/tmpllo8918p/best_clus.csv\n",
      "End of run_mcmc.cc\n",
      "\n"
     ]
    }
   ],
   "source": [
    "eval_dens_dp, clust, n_clust, best_clus_dp = run_mcmc(\n",
    "    \"NNW\", \"DP\", data3, g0_params, dp_params, neal2_algo, \n",
    "    dens_grid, return_clusters=True, return_num_clusters=True,\n",
    "    return_best_clus=True)\n",
    "\n"
   ]
  },
  {
   "cell_type": "code",
   "execution_count": 165,
   "id": "629b2df1",
   "metadata": {},
   "outputs": [
    {
     "data": {
      "text/plain": [
       "array([0., 1., 2.])"
      ]
     },
     "execution_count": 165,
     "metadata": {},
     "output_type": "execute_result"
    }
   ],
   "source": [
    "np.unique(n_clust[1])"
   ]
  },
  {
   "cell_type": "code",
   "execution_count": 164,
   "id": "6dfc627c",
   "metadata": {},
   "outputs": [
    {
     "data": {
      "image/png": "[encoded data removed]",
      "text/plain": [
       "<Figure size 432x288 with 1 Axes>"
      ]
     },
     "metadata": {
      "needs_background": "light"
     },
     "output_type": "display_data"
    }
   ],
   "source": [
    "x, y = np.unique(clust, return_counts=True)\n",
    "plt.bar(x, y / y.sum())\n",
    "plt.xticks(x)\n",
    "plt.title(\"Posterior distribution of the number of clusters\")\n",
    "plt.show()"
   ]
  },
  {
   "cell_type": "code",
   "execution_count": 132,
   "id": "a33b896d",
   "metadata": {},
   "outputs": [
    {
     "data": {
      "image/png": "[encoded data removed]",
      "text/plain": [
       "<Figure size 792x360 with 2 Axes>"
      ]
     },
     "metadata": {
      "needs_background": "light"
     },
     "output_type": "display_data"
    }
   ],
   "source": [
    "fig, axes = plt.subplots(nrows=1, ncols=2, figsize=(11, 5))\n",
    "\n",
    "mean_dens_dp = np.mean(eval_dens_dp, axis=0)\n",
    "mean_dens_py = np.mean(eval_dens, axis=0)\n",
    "\n",
    "axes[0].set_title(\"Dirichlet Process\", fontsize=16)\n",
    "axes[0].contour(xgrid, ygrid, mean_dens_dp.reshape(xgrid.shape))\n",
    "for c in np.unique(best_clus_dp):\n",
    "    currdata = data1[best_clus_dp == c, :]\n",
    "    axes[0].scatter(currdata[:, 0], currdata[:, 1])\n",
    "\n",
    "axes[1].set_title(\"Stick-breaking Dirichlet Process\", fontsize=16)\n",
    "axes[1].contour(xgrid, ygrid, mean_dens_py.reshape(xgrid.shape))\n",
    "for c in np.unique(p_clust):\n",
    "    currdata = data1[p_clust == c, :]\n",
    "    axes[1].scatter(currdata[:, 0], currdata[:, 1])"
   ]
  },
  {
   "cell_type": "code",
   "execution_count": null,
   "id": "55c2dd6f",
   "metadata": {},
   "outputs": [],
   "source": []
  },
  {
   "cell_type": "code",
   "execution_count": 94,
   "id": "5fd87626",
   "metadata": {},
   "outputs": [],
   "source": [
    "dp_params = \"\"\"\n",
    "fixed_value {\n",
    "totalmass: 1.0\n",
    "}\n",
    "\"\"\"\n",
    "g0_params = \"\"\"\n",
    "fixed_values {\n",
    "mean: 0.0\n",
    "var_scaling: 0.1\n",
    "shape: 2.0\n",
    "scale: 2.0\n",
    "}\n",
    "\"\"\"\n",
    "algo_params = \"\"\"\n",
    "algo_id: \"Neal2\"\n",
    "rng_seed: 20201124\n",
    "iterations: 1500\n",
    "burnin: 500\n",
    "init_num_clusters: 3\n",
    "\"\"\"\n"
   ]
  },
  {
   "cell_type": "code",
   "execution_count": 96,
   "id": "c7cabdf4",
   "metadata": {},
   "outputs": [
    {
     "name": "stdout",
     "output_type": "stream",
     "text": [
      "Running run_mcmc.cc\n",
      "Creating MemoryCollector\n",
      "Initializing... Done\n",
      "Running Neal2 algorithm with NNIG hierarchies, DP mixing...\n",
      "[============================================================] 100% 0.928s                                                                    Done\n",
      "Computing log-density...\n",
      "Successfully wrote density to /var/folders/2z/0sxx_8ts2pxcp028sy41wfgc0000gn/T/tmpq8b5x5vj/eval_dens.csv\n",
      "Successfully wrote number of clusters to /var/folders/2z/0sxx_8ts2pxcp028sy41wfgc0000gn/T/tmpq8b5x5vj/n_clus.csv\n",
      "Successfully wrote cluster allocations to /var/folders/2z/0sxx_8ts2pxcp028sy41wfgc0000gn/T/tmpq8b5x5vj/clus.csv\n",
      "(Computing mean dissimilarity... Done)\n",
      "Computing Frobenius norm error...\n",
      "[=======>                                                    ] 12% 0.023s "
     ]
    }
   ],
   "source": [
    "data = np.concatenate([np.random.normal(size=100) - 3,\n",
    "np.random.normal(size=100) + 3])\n",
    "dens_grid = np.linspace(-6, 6, 1000)\n",
    "log_dens, numcluschain, cluschain, bestclus = run_mcmc(\n",
    "\"NNIG\", \"DP\", data, g0_params, dp_params, algo_params,\n",
    "dens_grid=dens_grid, return_clusters=True, return_num_clusters=True,\n",
    "return_best_clus=True)"
   ]
  },
  {
   "cell_type": "code",
   "execution_count": null,
   "id": "bd35ce8e",
   "metadata": {},
   "outputs": [],
   "source": []
  },
  {
   "cell_type": "code",
   "execution_count": null,
   "id": "ff5cad02",
   "metadata": {},
   "outputs": [],
   "source": []
  },
  {
   "cell_type": "code",
   "execution_count": null,
   "id": "fb45318e",
   "metadata": {},
   "outputs": [],
   "source": []
  }
 ],
 "metadata": {
  "kernelspec": {
   "display_name": "Python 3 (ipykernel)",
   "language": "python",
   "name": "python3"
  },
  "language_info": {
   "codemirror_mode": {
    "name": "ipython",
    "version": 3
   },
   "file_extension": ".py",
   "mimetype": "text/x-python",
   "name": "python",
   "nbconvert_exporter": "python",
   "pygments_lexer": "ipython3",
   "version": "3.9.14"
  }
 },
 "nbformat": 4,
 "nbformat_minor": 5
}
