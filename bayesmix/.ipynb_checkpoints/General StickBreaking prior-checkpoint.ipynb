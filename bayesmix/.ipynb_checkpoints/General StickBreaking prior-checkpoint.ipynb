{
 "cells": [
  {
   "cell_type": "code",
   "execution_count": 1,
   "id": "28b41c0b",
   "metadata": {},
   "outputs": [],
   "source": [
    "import matplotlib.pyplot as plt\n",
    "import numpy as np\n",
    "\n",
    "from bayesmixpy import build_bayesmix, run_mcmc"
   ]
  },
  {
   "cell_type": "code",
   "execution_count": 2,
   "id": "cbc4a79c",
   "metadata": {},
   "outputs": [
    {
     "name": "stdout",
     "output_type": "stream",
     "text": [
      "Building the Bayesmix executable\n",
      "CMAKE_MODULE_PATH /Users/dariabystrova/bayesmix\n",
      "-- downloading/updating math\n",
      "-- math directory found, pulling...\n",
      "From https://github.com/bayesmix-dev/math\n",
      "* branch                  master     -> FETCH_HEAD\n",
      "--\n",
      "Already on 'develop'\n",
      "-- Your branch is ahead of 'origin/develop' by 22 commits.\n",
      "(use \"git push\" to publish your local commits)\n",
      "\n",
      "-- Using math TBB\n",
      "-- Building Intel TBB: /usr/bin/make -j12 stdver=c++17 compiler=clang tbb_build_dir=/Users/dariabystrova/bayesmix/lib/math/lib/tbb tbb_build_prefix=tbb\n",
      "FINDPROTOBUF:CMAKE Protobuf_FOUND 0\n",
      "FINDPROTOBUF:CMAKE PROTOBUF_FOUND 1\n",
      "-- protoc proto(cc): /Users/dariabystrova/bayesmix/src/proto/algorithm_id.proto\n",
      "-- protoc hdr: /Users/dariabystrova/bayesmix/build/algorithm_id.pb.h\n",
      "-- protoc src: /Users/dariabystrova/bayesmix/build/algorithm_id.pb.cc\n",
      "-- protoc proto(cc): /Users/dariabystrova/bayesmix/src/proto/algorithm_params.proto\n",
      "-- protoc hdr: /Users/dariabystrova/bayesmix/build/algorithm_params.pb.h\n",
      "-- protoc src: /Users/dariabystrova/bayesmix/build/algorithm_params.pb.cc\n",
      "-- protoc proto(cc): /Users/dariabystrova/bayesmix/src/proto/algorithm_state.proto\n",
      "-- protoc hdr: /Users/dariabystrova/bayesmix/build/algorithm_state.pb.h\n",
      "-- protoc src: /Users/dariabystrova/bayesmix/build/algorithm_state.pb.cc\n",
      "-- protoc proto(cc): /Users/dariabystrova/bayesmix/src/proto/distribution.proto\n",
      "-- protoc hdr: /Users/dariabystrova/bayesmix/build/distribution.pb.h\n",
      "-- protoc src: /Users/dariabystrova/bayesmix/build/distribution.pb.cc\n",
      "-- protoc proto(cc): /Users/dariabystrova/bayesmix/src/proto/hierarchy_id.proto\n",
      "-- protoc hdr: /Users/dariabystrova/bayesmix/build/hierarchy_id.pb.h\n",
      "-- protoc src: /Users/dariabystrova/bayesmix/build/hierarchy_id.pb.cc\n",
      "-- protoc proto(cc): /Users/dariabystrova/bayesmix/src/proto/hierarchy_prior.proto\n",
      "-- protoc hdr: /Users/dariabystrova/bayesmix/build/hierarchy_prior.pb.h\n",
      "-- protoc src: /Users/dariabystrova/bayesmix/build/hierarchy_prior.pb.cc\n",
      "-- protoc proto(cc): /Users/dariabystrova/bayesmix/src/proto/ls_state.proto\n",
      "-- protoc hdr: /Users/dariabystrova/bayesmix/build/ls_state.pb.h\n",
      "-- protoc src: /Users/dariabystrova/bayesmix/build/ls_state.pb.cc\n",
      "-- protoc proto(cc): /Users/dariabystrova/bayesmix/src/proto/matrix.proto\n",
      "-- protoc hdr: /Users/dariabystrova/bayesmix/build/matrix.pb.h\n",
      "-- protoc src: /Users/dariabystrova/bayesmix/build/matrix.pb.cc\n",
      "-- protoc proto(cc): /Users/dariabystrova/bayesmix/src/proto/mixing_id.proto\n",
      "-- protoc hdr: /Users/dariabystrova/bayesmix/build/mixing_id.pb.h\n",
      "-- protoc src: /Users/dariabystrova/bayesmix/build/mixing_id.pb.cc\n",
      "-- protoc proto(cc): /Users/dariabystrova/bayesmix/src/proto/mixing_prior.proto\n",
      "-- protoc hdr: /Users/dariabystrova/bayesmix/build/mixing_prior.pb.h\n",
      "-- protoc src: /Users/dariabystrova/bayesmix/build/mixing_prior.pb.cc\n",
      "-- protoc proto(cc): /Users/dariabystrova/bayesmix/src/proto/mixing_state.proto\n",
      "-- protoc hdr: /Users/dariabystrova/bayesmix/build/mixing_state.pb.h\n",
      "-- protoc src: /Users/dariabystrova/bayesmix/build/mixing_state.pb.cc\n",
      "-- protoc proto(cc): /Users/dariabystrova/bayesmix/src/proto/semihdp.proto\n",
      "-- protoc hdr: /Users/dariabystrova/bayesmix/build/semihdp.pb.h\n",
      "-- protoc src: /Users/dariabystrova/bayesmix/build/semihdp.pb.cc\n",
      "-- Configuring done\n",
      "-- Generating done\n",
      "-- Build files have been written to: /Users/dariabystrova/bayesmix/build\n",
      "\n",
      "Consolidate compiler generated dependencies of target bayesmix\n",
      "[ 96%] Built target bayesmix\n",
      "Consolidate compiler generated dependencies of target run_mcmc\n",
      "[100%] Built target run_mcmc\n",
      "\n"
     ]
    },
    {
     "data": {
      "text/plain": [
       "True"
      ]
     },
     "execution_count": 2,
     "metadata": {},
     "output_type": "execute_result"
    }
   ],
   "source": [
    "build_bayesmix(4)"
   ]
  },
  {
   "cell_type": "code",
   "execution_count": 4,
   "id": "d0bd96e5",
   "metadata": {},
   "outputs": [
    {
     "ename": "ModuleNotFoundError",
     "evalue": "No module named 'proto.py'",
     "output_type": "error",
     "traceback": [
      "\u001b[0;31m---------------------------------------------------------------------------\u001b[0m",
      "\u001b[0;31mModuleNotFoundError\u001b[0m                       Traceback (most recent call last)",
      "Input \u001b[0;32mIn [4]\u001b[0m, in \u001b[0;36m<cell line: 4>\u001b[0;34m()\u001b[0m\n\u001b[1;32m      1\u001b[0m \u001b[38;5;28;01mfrom\u001b[39;00m \u001b[38;5;21;01mgoogle\u001b[39;00m\u001b[38;5;21;01m.\u001b[39;00m\u001b[38;5;21;01mprotobuf\u001b[39;00m\u001b[38;5;21;01m.\u001b[39;00m\u001b[38;5;21;01minternal\u001b[39;00m\u001b[38;5;21;01m.\u001b[39;00m\u001b[38;5;21;01mdecoder\u001b[39;00m \u001b[38;5;28;01mimport\u001b[39;00m _DecodeVarint32\n\u001b[0;32m----> 4\u001b[0m \u001b[38;5;28;01mfrom\u001b[39;00m \u001b[38;5;21;01mproto\u001b[39;00m\u001b[38;5;21;01m.\u001b[39;00m\u001b[38;5;21;01mpy\u001b[39;00m\u001b[38;5;21;01m.\u001b[39;00m\u001b[38;5;21;01mmixing_state_pb2\u001b[39;00m \u001b[38;5;28;01mimport\u001b[39;00m TruncSBState\n",
      "\u001b[0;31mModuleNotFoundError\u001b[0m: No module named 'proto.py'"
     ]
    }
   ],
   "source": [
    "from google.protobuf.internal.decoder import _DecodeVarint32\n",
    "\n",
    "\n",
    "from proto.py.mixing_state_pb2 import TruncSBState\n",
    "\n"
   ]
  },
  {
   "cell_type": "code",
   "execution_count": null,
   "id": "2abbc7f1",
   "metadata": {},
   "outputs": [],
   "source": []
  },
  {
   "cell_type": "code",
   "execution_count": 5,
   "id": "3c976a3f",
   "metadata": {},
   "outputs": [],
   "source": [
    "n_components = 20\n",
    "beta_alpha1 = np.ones(n_components)\n",
    "beta_alpha2 = np.ones(n_components)\n",
    "\n",
    "beta_params_template = \"\"\"\n",
    "beta_distributions {{\n",
    "    shape_a: {0}\n",
    "    shape_b: {1}\n",
    "}}\n",
    "\"\"\"\n",
    "\n",
    "beta_params_proto = [\n",
    "    beta_params_template.format(a1, a2) for a1, a2 in zip(beta_alpha1, beta_alpha2)\n",
    "]\n",
    "\n",
    "\n",
    "trunc_sb_params = \"\"\"\n",
    "num_components: {0}\n",
    "beta_priors {{\n",
    "    {1}\n",
    "}}\n",
    "\"\"\".format(n_components, \"\".join(beta_params_proto))"
   ]
  },
  {
   "cell_type": "code",
   "execution_count": 6,
   "id": "b191401e",
   "metadata": {},
   "outputs": [],
   "source": [
    "g0_params_fix = \"\"\"\n",
    "fixed_values {\n",
    "    mean: 0.0\n",
    "    var_scaling: 0.1\n",
    "    shape: 2.0\n",
    "    scale: 2.0\n",
    "}\n",
    "\"\"\"\n",
    "\n",
    "\n",
    "neal2_algo = \"\"\"\n",
    "algo_id: \"BlockedGibbs\"\n",
    "rng_seed: 20201124\n",
    "iterations: 2000\n",
    "burnin: 1000\n",
    "init_num_clusters: 3\n",
    "\"\"\""
   ]
  },
  {
   "cell_type": "code",
   "execution_count": 10,
   "id": "d1a60d68",
   "metadata": {},
   "outputs": [
    {
     "name": "stdout",
     "output_type": "stream",
     "text": [
      "Running run_mcmc.cc\n",
      "Creating MemoryCollector\n",
      "Initializing... Done\n",
      "Running BlockedGibbs algorithm with NNIG hierarchies, TruncSB mixing...\n",
      "[============================================================] 100% 1.348s                                                                                                                                                                                                              Done\n",
      "Computing log-density...\n",
      "Successfully wrote density to /var/folders/2z/0sxx_8ts2pxcp028sy41wfgc0000gn/T/tmpq8_vckb3/eval_dens.csv\n",
      "Successfully wrote number of clusters to /var/folders/2z/0sxx_8ts2pxcp028sy41wfgc0000gn/T/tmpq8_vckb3/n_clus.csv\n",
      "Successfully wrote cluster allocations to /var/folders/2z/0sxx_8ts2pxcp028sy41wfgc0000gn/T/tmpq8_vckb3/clus.csv\n",
      "(Computing mean dissimilarity... Done)\n",
      "Computing Frobenius norm error...\n",
      "[========>                                                   ] 13% 0.023s "
     ]
    }
   ],
   "source": [
    "dens_grid = np.linspace(-10, 10, 1000)\n",
    "data = np.concatenate([\n",
    "    np.random.normal(loc=3, scale=1, size=100),\n",
    "    np.random.normal(loc=-3, scale=1, size=100),\n",
    "])\n",
    "\n",
    "eval_dens, clust, n_clust, p_clust = run_mcmc(\n",
    "    \"NNIG\", \"TruncSB\", data, g0_params_fix, trunc_sb_params, neal2_algo, dens_grid,\n",
    "    return_clusters=True, return_num_clusters=True,\n",
    "    return_best_clus=True)"
   ]
  },
  {
   "cell_type": "code",
   "execution_count": 11,
   "id": "a00c6bd3",
   "metadata": {},
   "outputs": [
    {
     "data": {
      "text/plain": [
       "[<matplotlib.lines.Line2D at 0x10a3b1b20>]"
      ]
     },
     "execution_count": 11,
     "metadata": {},
     "output_type": "execute_result"
    },
    {
     "data": {
      "image/png": "[encoded data removed]",
      "text/plain": [
       "<Figure size 432x288 with 1 Axes>"
      ]
     },
     "metadata": {
      "needs_background": "light"
     },
     "output_type": "display_data"
    }
   ],
   "source": [
    "plt.plot(dens_grid, np.mean(np.exp(eval_dens), axis=0))"
   ]
  },
  {
   "cell_type": "code",
   "execution_count": 16,
   "id": "336f59ef",
   "metadata": {},
   "outputs": [
    {
     "data": {
      "text/plain": [
       "(array([[829., 138.,  18., ...,   0.,   0.,   0.],\n",
       "        [716., 206.,  41., ...,   0.,   0.,   0.],\n",
       "        [778., 185.,  18., ...,   1.,   0.,   0.],\n",
       "        ...,\n",
       "        [ 32., 104., 835., ...,   3.,   0.,   0.],\n",
       "        [298., 189., 319., ...,   1.,   0.,   0.],\n",
       "        [ 16.,  81., 884., ...,   1.,   0.,   0.]]),\n",
       " array([ 0. ,  1.5,  3. ,  4.5,  6. ,  7.5,  9. , 10.5, 12. , 13.5, 15. ]),\n",
       " <a list of 200 BarContainer objects>)"
      ]
     },
     "execution_count": 16,
     "metadata": {},
     "output_type": "execute_result"
    },
    {
     "data": {
      "image/png": "[encoded data removed]",
      "text/plain": [
       "<Figure size 432x288 with 1 Axes>"
      ]
     },
     "metadata": {
      "needs_background": "light"
     },
     "output_type": "display_data"
    }
   ],
   "source": [
    "plt.hist(n_clust)\n"
   ]
  },
  {
   "cell_type": "code",
   "execution_count": 24,
   "id": "6c982e52",
   "metadata": {
    "scrolled": true
   },
   "outputs": [
    {
     "data": {
      "text/plain": [
       "array([1., 1., 1., 1., 1., 1., 1., 1., 1., 1., 1., 1., 1., 1., 1., 1., 1.,\n",
       "       1., 1., 1., 1., 1., 1., 1., 1., 1., 1., 1., 1., 1., 1., 1., 1., 1.,\n",
       "       1., 1., 1., 1., 1., 1., 1., 1., 1., 1., 1., 1., 1., 1., 1., 1., 1.,\n",
       "       1., 1., 1., 1., 1., 1., 1., 1., 1., 1., 1., 1., 1., 1., 1., 1., 1.,\n",
       "       1., 1., 1., 1., 2., 1., 1., 1., 1., 1., 1., 1., 1., 1., 1., 1., 1.,\n",
       "       1., 2., 1., 1., 1., 1., 1., 1., 1., 1., 1., 1., 1., 1., 1., 3., 3.,\n",
       "       3., 3., 3., 3., 3., 3., 3., 3., 3., 3., 3., 3., 3., 3., 3., 3., 3.,\n",
       "       3., 3., 3., 3., 3., 3., 3., 3., 3., 3., 3., 3., 3., 3., 3., 3., 3.,\n",
       "       3., 3., 3., 3., 3., 3., 3., 3., 3., 3., 3., 3., 3., 3., 3., 3., 3.,\n",
       "       3., 3., 3., 3., 3., 3., 3., 3., 3., 3., 3., 3., 3., 3., 3., 3., 3.,\n",
       "       3., 3., 3., 3., 3., 3., 3., 3., 3., 3., 3., 3., 3., 3., 3., 3., 3.,\n",
       "       3., 3., 3., 3., 3., 3., 2., 3., 3., 3., 3., 2., 3.])"
      ]
     },
     "execution_count": 24,
     "metadata": {},
     "output_type": "execute_result"
    }
   ],
   "source": [
    "p_clust"
   ]
  },
  {
   "cell_type": "code",
   "execution_count": 27,
   "id": "f1b02704",
   "metadata": {},
   "outputs": [],
   "source": [
    "from __future__ import print_function\n",
    "import mxnet as mx\n",
    "import numpy as np\n",
    "import matplotlib.pyplot as plt"
   ]
  },
  {
   "cell_type": "code",
   "execution_count": 26,
   "id": "7c4e3e8e",
   "metadata": {},
   "outputs": [
    {
     "ename": "NameError",
     "evalue": "name 'wd' is not defined",
     "output_type": "error",
     "traceback": [
      "\u001b[0;31m---------------------------------------------------------------------------\u001b[0m",
      "\u001b[0;31mNameError\u001b[0m                                 Traceback (most recent call last)",
      "Input \u001b[0;32mIn [26]\u001b[0m, in \u001b[0;36m<cell line: 1>\u001b[0;34m()\u001b[0m\n\u001b[0;32m----> 1\u001b[0m \u001b[43mwd\u001b[49m()\n",
      "\u001b[0;31mNameError\u001b[0m: name 'wd' is not defined"
     ]
    }
   ],
   "source": [
    "\n",
    "record = mx.recordio.MXRecordIO('tmp.rec', 'r')\n",
    "while True:\n",
    "    item = record.read()\n",
    "    if not item:\n",
    "        break\n",
    "    print(item)\n",
    "record.close()"
   ]
  },
  {
   "cell_type": "code",
   "execution_count": null,
   "id": "55c2dd6f",
   "metadata": {},
   "outputs": [],
   "source": []
  }
 ],
 "metadata": {
  "kernelspec": {
   "display_name": "Python 3 (ipykernel)",
   "language": "python",
   "name": "python3"
  },
  "language_info": {
   "codemirror_mode": {
    "name": "ipython",
    "version": 3
   },
   "file_extension": ".py",
   "mimetype": "text/x-python",
   "name": "python",
   "nbconvert_exporter": "python",
   "pygments_lexer": "ipython3",
   "version": "3.9.14"
  }
 },
 "nbformat": 4,
 "nbformat_minor": 5
}
